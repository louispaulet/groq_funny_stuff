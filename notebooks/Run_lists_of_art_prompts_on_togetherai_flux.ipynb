{
  "nbformat": 4,
  "nbformat_minor": 0,
  "metadata": {
    "colab": {
      "provenance": []
    },
    "kernelspec": {
      "name": "python3",
      "display_name": "Python 3"
    },
    "language_info": {
      "name": "python"
    },
    "widgets": {
      "application/vnd.jupyter.widget-state+json": {
        "67657d1912b545ce9935dfda46482e26": {
          "model_module": "@jupyter-widgets/controls",
          "model_name": "HBoxModel",
          "model_module_version": "1.5.0",
          "state": {
            "_dom_classes": [],
            "_model_module": "@jupyter-widgets/controls",
            "_model_module_version": "1.5.0",
            "_model_name": "HBoxModel",
            "_view_count": null,
            "_view_module": "@jupyter-widgets/controls",
            "_view_module_version": "1.5.0",
            "_view_name": "HBoxView",
            "box_style": "",
            "children": [
              "IPY_MODEL_10c5eb071e004e40866c2286c480ba5d",
              "IPY_MODEL_1934ab721434456c9318673dc755bc33",
              "IPY_MODEL_f2a2c452d2134e58b13a57e162330fa9"
            ],
            "layout": "IPY_MODEL_7f52c2fb1c9d40cca9c3c6f8c8a2f67a"
          }
        },
        "10c5eb071e004e40866c2286c480ba5d": {
          "model_module": "@jupyter-widgets/controls",
          "model_name": "HTMLModel",
          "model_module_version": "1.5.0",
          "state": {
            "_dom_classes": [],
            "_model_module": "@jupyter-widgets/controls",
            "_model_module_version": "1.5.0",
            "_model_name": "HTMLModel",
            "_view_count": null,
            "_view_module": "@jupyter-widgets/controls",
            "_view_module_version": "1.5.0",
            "_view_name": "HTMLView",
            "description": "",
            "description_tooltip": null,
            "layout": "IPY_MODEL_e39536966a6e45408659087bc7b06d12",
            "placeholder": "​",
            "style": "IPY_MODEL_f732c77545174556aa4a4b968fd10cbd",
            "value": "Generating:  14%"
          }
        },
        "1934ab721434456c9318673dc755bc33": {
          "model_module": "@jupyter-widgets/controls",
          "model_name": "FloatProgressModel",
          "model_module_version": "1.5.0",
          "state": {
            "_dom_classes": [],
            "_model_module": "@jupyter-widgets/controls",
            "_model_module_version": "1.5.0",
            "_model_name": "FloatProgressModel",
            "_view_count": null,
            "_view_module": "@jupyter-widgets/controls",
            "_view_module_version": "1.5.0",
            "_view_name": "ProgressView",
            "bar_style": "",
            "description": "",
            "description_tooltip": null,
            "layout": "IPY_MODEL_7cda03adc387433c8a45066575738595",
            "max": 186,
            "min": 0,
            "orientation": "horizontal",
            "style": "IPY_MODEL_398d2c27d5114ad78b13c99a9f6e7900",
            "value": 26
          }
        },
        "f2a2c452d2134e58b13a57e162330fa9": {
          "model_module": "@jupyter-widgets/controls",
          "model_name": "HTMLModel",
          "model_module_version": "1.5.0",
          "state": {
            "_dom_classes": [],
            "_model_module": "@jupyter-widgets/controls",
            "_model_module_version": "1.5.0",
            "_model_name": "HTMLModel",
            "_view_count": null,
            "_view_module": "@jupyter-widgets/controls",
            "_view_module_version": "1.5.0",
            "_view_name": "HTMLView",
            "description": "",
            "description_tooltip": null,
            "layout": "IPY_MODEL_3e038b3d15f54d268ed50e7bf3877208",
            "placeholder": "​",
            "style": "IPY_MODEL_6463c6c768fa450e8545f4f26c646f1f",
            "value": " 26/186 [05:32&lt;34:14, 12.84s/it]"
          }
        },
        "7f52c2fb1c9d40cca9c3c6f8c8a2f67a": {
          "model_module": "@jupyter-widgets/base",
          "model_name": "LayoutModel",
          "model_module_version": "1.2.0",
          "state": {
            "_model_module": "@jupyter-widgets/base",
            "_model_module_version": "1.2.0",
            "_model_name": "LayoutModel",
            "_view_count": null,
            "_view_module": "@jupyter-widgets/base",
            "_view_module_version": "1.2.0",
            "_view_name": "LayoutView",
            "align_content": null,
            "align_items": null,
            "align_self": null,
            "border": null,
            "bottom": null,
            "display": null,
            "flex": null,
            "flex_flow": null,
            "grid_area": null,
            "grid_auto_columns": null,
            "grid_auto_flow": null,
            "grid_auto_rows": null,
            "grid_column": null,
            "grid_gap": null,
            "grid_row": null,
            "grid_template_areas": null,
            "grid_template_columns": null,
            "grid_template_rows": null,
            "height": null,
            "justify_content": null,
            "justify_items": null,
            "left": null,
            "margin": null,
            "max_height": null,
            "max_width": null,
            "min_height": null,
            "min_width": null,
            "object_fit": null,
            "object_position": null,
            "order": null,
            "overflow": null,
            "overflow_x": null,
            "overflow_y": null,
            "padding": null,
            "right": null,
            "top": null,
            "visibility": null,
            "width": null
          }
        },
        "e39536966a6e45408659087bc7b06d12": {
          "model_module": "@jupyter-widgets/base",
          "model_name": "LayoutModel",
          "model_module_version": "1.2.0",
          "state": {
            "_model_module": "@jupyter-widgets/base",
            "_model_module_version": "1.2.0",
            "_model_name": "LayoutModel",
            "_view_count": null,
            "_view_module": "@jupyter-widgets/base",
            "_view_module_version": "1.2.0",
            "_view_name": "LayoutView",
            "align_content": null,
            "align_items": null,
            "align_self": null,
            "border": null,
            "bottom": null,
            "display": null,
            "flex": null,
            "flex_flow": null,
            "grid_area": null,
            "grid_auto_columns": null,
            "grid_auto_flow": null,
            "grid_auto_rows": null,
            "grid_column": null,
            "grid_gap": null,
            "grid_row": null,
            "grid_template_areas": null,
            "grid_template_columns": null,
            "grid_template_rows": null,
            "height": null,
            "justify_content": null,
            "justify_items": null,
            "left": null,
            "margin": null,
            "max_height": null,
            "max_width": null,
            "min_height": null,
            "min_width": null,
            "object_fit": null,
            "object_position": null,
            "order": null,
            "overflow": null,
            "overflow_x": null,
            "overflow_y": null,
            "padding": null,
            "right": null,
            "top": null,
            "visibility": null,
            "width": null
          }
        },
        "f732c77545174556aa4a4b968fd10cbd": {
          "model_module": "@jupyter-widgets/controls",
          "model_name": "DescriptionStyleModel",
          "model_module_version": "1.5.0",
          "state": {
            "_model_module": "@jupyter-widgets/controls",
            "_model_module_version": "1.5.0",
            "_model_name": "DescriptionStyleModel",
            "_view_count": null,
            "_view_module": "@jupyter-widgets/base",
            "_view_module_version": "1.2.0",
            "_view_name": "StyleView",
            "description_width": ""
          }
        },
        "7cda03adc387433c8a45066575738595": {
          "model_module": "@jupyter-widgets/base",
          "model_name": "LayoutModel",
          "model_module_version": "1.2.0",
          "state": {
            "_model_module": "@jupyter-widgets/base",
            "_model_module_version": "1.2.0",
            "_model_name": "LayoutModel",
            "_view_count": null,
            "_view_module": "@jupyter-widgets/base",
            "_view_module_version": "1.2.0",
            "_view_name": "LayoutView",
            "align_content": null,
            "align_items": null,
            "align_self": null,
            "border": null,
            "bottom": null,
            "display": null,
            "flex": null,
            "flex_flow": null,
            "grid_area": null,
            "grid_auto_columns": null,
            "grid_auto_flow": null,
            "grid_auto_rows": null,
            "grid_column": null,
            "grid_gap": null,
            "grid_row": null,
            "grid_template_areas": null,
            "grid_template_columns": null,
            "grid_template_rows": null,
            "height": null,
            "justify_content": null,
            "justify_items": null,
            "left": null,
            "margin": null,
            "max_height": null,
            "max_width": null,
            "min_height": null,
            "min_width": null,
            "object_fit": null,
            "object_position": null,
            "order": null,
            "overflow": null,
            "overflow_x": null,
            "overflow_y": null,
            "padding": null,
            "right": null,
            "top": null,
            "visibility": null,
            "width": null
          }
        },
        "398d2c27d5114ad78b13c99a9f6e7900": {
          "model_module": "@jupyter-widgets/controls",
          "model_name": "ProgressStyleModel",
          "model_module_version": "1.5.0",
          "state": {
            "_model_module": "@jupyter-widgets/controls",
            "_model_module_version": "1.5.0",
            "_model_name": "ProgressStyleModel",
            "_view_count": null,
            "_view_module": "@jupyter-widgets/base",
            "_view_module_version": "1.2.0",
            "_view_name": "StyleView",
            "bar_color": null,
            "description_width": ""
          }
        },
        "3e038b3d15f54d268ed50e7bf3877208": {
          "model_module": "@jupyter-widgets/base",
          "model_name": "LayoutModel",
          "model_module_version": "1.2.0",
          "state": {
            "_model_module": "@jupyter-widgets/base",
            "_model_module_version": "1.2.0",
            "_model_name": "LayoutModel",
            "_view_count": null,
            "_view_module": "@jupyter-widgets/base",
            "_view_module_version": "1.2.0",
            "_view_name": "LayoutView",
            "align_content": null,
            "align_items": null,
            "align_self": null,
            "border": null,
            "bottom": null,
            "display": null,
            "flex": null,
            "flex_flow": null,
            "grid_area": null,
            "grid_auto_columns": null,
            "grid_auto_flow": null,
            "grid_auto_rows": null,
            "grid_column": null,
            "grid_gap": null,
            "grid_row": null,
            "grid_template_areas": null,
            "grid_template_columns": null,
            "grid_template_rows": null,
            "height": null,
            "justify_content": null,
            "justify_items": null,
            "left": null,
            "margin": null,
            "max_height": null,
            "max_width": null,
            "min_height": null,
            "min_width": null,
            "object_fit": null,
            "object_position": null,
            "order": null,
            "overflow": null,
            "overflow_x": null,
            "overflow_y": null,
            "padding": null,
            "right": null,
            "top": null,
            "visibility": null,
            "width": null
          }
        },
        "6463c6c768fa450e8545f4f26c646f1f": {
          "model_module": "@jupyter-widgets/controls",
          "model_name": "DescriptionStyleModel",
          "model_module_version": "1.5.0",
          "state": {
            "_model_module": "@jupyter-widgets/controls",
            "_model_module_version": "1.5.0",
            "_model_name": "DescriptionStyleModel",
            "_view_count": null,
            "_view_module": "@jupyter-widgets/base",
            "_view_module_version": "1.2.0",
            "_view_name": "StyleView",
            "description_width": ""
          }
        }
      }
    }
  },
  "cells": [
    {
      "cell_type": "markdown",
      "source": [
        "# Pay to win: generate loads of art in record time using the openai image generation API"
      ],
      "metadata": {
        "id": "PgZ2v8p50DpC"
      }
    },
    {
      "cell_type": "code",
      "source": [
        "from google.colab import drive\n",
        "drive.mount('/content/drive')"
      ],
      "metadata": {
        "colab": {
          "base_uri": "https://localhost:8080/"
        },
        "id": "keF4aejICgoA",
        "outputId": "d8ee3c45-4f08-4cfc-e34c-02caf82a79e2"
      },
      "execution_count": 5,
      "outputs": [
        {
          "output_type": "stream",
          "name": "stdout",
          "text": [
            "Mounted at /content/drive\n"
          ]
        }
      ]
    },
    {
      "cell_type": "markdown",
      "source": [
        "## install libs\n",
        "\n"
      ],
      "metadata": {
        "id": "BBQ4v7Bqz2x6"
      }
    },
    {
      "cell_type": "code",
      "source": [
        "# --- 1) Load key from colab secrets (must be set in \"Secrets\" panel) ---\n",
        "import os\n",
        "from google.colab import userdata\n",
        "# os.environ[\"OPENAI_API_KEY\"] = userdata.get(\"OPENAI_API_KEY\")\n",
        "\n",
        "# --- 2) Install & import client ---\n",
        "!pip install --quiet openai python-slugify"
      ],
      "metadata": {
        "id": "aUxrLgPPyU2D"
      },
      "execution_count": 1,
      "outputs": []
    },
    {
      "cell_type": "markdown",
      "source": [
        "## define image generation and saving function"
      ],
      "metadata": {
        "id": "iPsF1q4sz55F"
      }
    },
    {
      "cell_type": "code",
      "source": [
        "# --- Colab cell: FLUX.1-schnell via Together AI with URL fallback + logging ---\n",
        "import os\n",
        "import base64\n",
        "import json\n",
        "import requests\n",
        "from datetime import datetime\n",
        "from slugify import slugify\n",
        "\n",
        "# Where to save images & log\n",
        "SAVE_DIR = \"/content/drive/MyDrive/AI/together_flux\"\n",
        "LOG_PATH = os.path.join(SAVE_DIR, \"together_flux.log\")\n",
        "os.makedirs(SAVE_DIR, exist_ok=True)\n",
        "\n",
        "TOGETHER_API_URL = \"https://api.together.xyz/v1/images/generations\"\n",
        "MODEL_NAME = \"black-forest-labs/FLUX.1-schnell\"  # Together's FLUX schnell model\n",
        "\n",
        "def _get_together_key() -> str:\n",
        "    key = os.environ.get(\"TOGETHER_AI\")\n",
        "    if key:\n",
        "        return key\n",
        "    try:\n",
        "        from google.colab import userdata\n",
        "        key = userdata.get(\"TOGETHER_AI\")\n",
        "    except Exception:\n",
        "        key = None\n",
        "    if not key:\n",
        "        raise RuntimeError(\"Missing Together API key. Set Colab secret or env var named TOGETHER_AI.\")\n",
        "    return key\n",
        "\n",
        "def _slug_first_last(text: str, n: int = 50) -> str:\n",
        "    text = (text or \"\").strip()\n",
        "    if len(text) <= 2 * n:\n",
        "        snippet = text\n",
        "    else:\n",
        "        snippet = text[:n] + \" \" + text[-n:]\n",
        "    return slugify(snippet) or \"image\"\n",
        "\n",
        "def _append_log(timestamp: str, filename: str, url: str, prompt: str) -> None:\n",
        "    # CSV-like .log: timestamp,filename,url,prompt (prompt last; may contain commas)\n",
        "    with open(LOG_PATH, \"a\", encoding=\"utf-8\") as logf:\n",
        "        logf.write(f\"{timestamp},{filename},{url},{prompt}\\n\")\n",
        "\n",
        "def save_image_from_prompt(\n",
        "    prompt: str,\n",
        "    width: int = 1024,\n",
        "    height: int = 1024,\n",
        "    model: str = MODEL_NAME,\n",
        ") -> str:\n",
        "    \"\"\"\n",
        "    Generate an image from a prompt using Together AI (FLUX.1-schnell).\n",
        "    Handles both base64 and URL responses.\n",
        "    Logs (timestamp, filename, url, prompt) to together_flux.log.\n",
        "    Saves image under /content/drive/MyDrive/AI/together_flux and returns the file path.\n",
        "    \"\"\"\n",
        "    api_key = _get_together_key()\n",
        "\n",
        "    payload = {\n",
        "        \"model\": model,\n",
        "        \"prompt\": prompt,\n",
        "        \"width\": width,\n",
        "        \"height\": height,\n",
        "        \"n\": 1,\n",
        "        # Optional params you can enable:\n",
        "        # \"seed\": 0, \"steps\": 20, \"guidance\": 3.5\n",
        "    }\n",
        "\n",
        "    headers = {\n",
        "        \"Authorization\": f\"Bearer {api_key}\",\n",
        "        \"Content-Type\": \"application/json\",\n",
        "    }\n",
        "\n",
        "    resp = requests.post(TOGETHER_API_URL, headers=headers, data=json.dumps(payload), timeout=180)\n",
        "    if resp.status_code != 200:\n",
        "        raise RuntimeError(f\"Together API error {resp.status_code}: {resp.text[:500]}\")\n",
        "\n",
        "    data = resp.json()\n",
        "    if \"data\" not in data or not data[\"data\"]:\n",
        "        raise RuntimeError(f\"Unexpected Together API response: {data}\")\n",
        "\n",
        "    # Filename\n",
        "    timestamp = datetime.now().strftime(\"%Y%m%d-%H%M%S\")\n",
        "    slug = _slug_first_last(prompt, 50)\n",
        "    fname = f\"{timestamp}-{slug}.png\"\n",
        "    fpath = os.path.join(SAVE_DIR, fname)\n",
        "\n",
        "    # Prefer base64 if present, else use URL\n",
        "    entry = data[\"data\"][0]\n",
        "    b64 = entry.get(\"b64_json\")\n",
        "    url = entry.get(\"url\")\n",
        "\n",
        "    if b64:\n",
        "        image_bytes = base64.b64decode(b64)\n",
        "        with open(fpath, \"wb\") as f:\n",
        "            f.write(image_bytes)\n",
        "        if url:\n",
        "            _append_log(timestamp, fname, url, prompt)  # log URL if provided alongside b64\n",
        "    elif url:\n",
        "        # Log first, then download\n",
        "        _append_log(timestamp, fname, url, prompt)\n",
        "        # Some Together short links are public; if authorization is needed, try header too.\n",
        "        get_headers = {}\n",
        "        try:\n",
        "            # Try without auth header first\n",
        "            r = requests.get(url, timeout=300)\n",
        "            if r.status_code == 401 or r.status_code == 403:\n",
        "                get_headers = {\"Authorization\": f\"Bearer {api_key}\"}\n",
        "                r = requests.get(url, headers=get_headers, timeout=300)\n",
        "        except requests.RequestException as e:\n",
        "            raise RuntimeError(f\"Failed to download image from URL: {e}\")\n",
        "\n",
        "        if r.status_code != 200:\n",
        "            raise RuntimeError(f\"Failed to download image from URL (status {r.status_code}): {r.text[:300]}\")\n",
        "        with open(fpath, \"wb\") as f:\n",
        "            f.write(r.content)\n",
        "    else:\n",
        "        # Neither b64 nor URL present\n",
        "        raise RuntimeError(f\"No image data returned: {data}\")\n",
        "\n",
        "    print(f\"Saved → {fpath}\")\n",
        "    return fpath\n"
      ],
      "metadata": {
        "id": "r0XY_z3uzW0e"
      },
      "execution_count": 8,
      "outputs": []
    },
    {
      "cell_type": "markdown",
      "source": [
        "Example run (deactivated to go faster)"
      ],
      "metadata": {
        "id": "MX69-bbi0Oq8"
      }
    },
    {
      "cell_type": "code",
      "source": [
        "# save_image_from_prompt('a delicious pizza with large zucchini flowers and blue cheese')"
      ],
      "metadata": {
        "colab": {
          "base_uri": "https://localhost:8080/",
          "height": 90
        },
        "id": "3XcrpAhUzdlJ",
        "outputId": "9e9378bb-8d8a-4e3e-eb91-5ec3f21ac547"
      },
      "execution_count": 9,
      "outputs": [
        {
          "output_type": "stream",
          "name": "stdout",
          "text": [
            "Saved → /content/drive/MyDrive/AI/together_flux/20251019-104338-a-delicious-pizza-with-large-zucchini-flowers-and-blue-cheese.png\n"
          ]
        },
        {
          "output_type": "execute_result",
          "data": {
            "text/plain": [
              "'/content/drive/MyDrive/AI/together_flux/20251019-104338-a-delicious-pizza-with-large-zucchini-flowers-and-blue-cheese.png'"
            ],
            "application/vnd.google.colaboratory.intrinsic+json": {
              "type": "string"
            }
          },
          "metadata": {},
          "execution_count": 9
        }
      ]
    },
    {
      "cell_type": "markdown",
      "source": [
        "## Look at images generated by openai dalle3\n",
        "\n",
        "There have been failures in the openai generation pipeline, so we will only generate images for the successes.  "
      ],
      "metadata": {
        "id": "LVaz5yY00K5t"
      }
    },
    {
      "cell_type": "code",
      "source": [
        "import pandas as pd\n",
        "\n",
        "\n",
        "df = pd.read_csv('/content/drive/MyDrive/AI/dalle3/generated_prompts.csv')"
      ],
      "metadata": {
        "id": "rBwv8QtaEfQK"
      },
      "execution_count": 12,
      "outputs": []
    },
    {
      "cell_type": "markdown",
      "source": [
        "We see that over 232 prompts, we have 46 failures, and 186 successes.  "
      ],
      "metadata": {
        "id": "gOTXHXLtFpZ0"
      }
    },
    {
      "cell_type": "code",
      "source": [
        "len(df[df.file.isna()]) ,len(df), len(df[~df.file.isna()])"
      ],
      "metadata": {
        "colab": {
          "base_uri": "https://localhost:8080/"
        },
        "id": "ihszzcS4EzkH",
        "outputId": "5fd2de2f-3f2c-4f63-db95-10458b9db981"
      },
      "execution_count": 18,
      "outputs": [
        {
          "output_type": "execute_result",
          "data": {
            "text/plain": [
              "(46, 232, 186)"
            ]
          },
          "metadata": {},
          "execution_count": 18
        }
      ]
    },
    {
      "cell_type": "code",
      "source": [
        "df = df[~df.file.isna()]"
      ],
      "metadata": {
        "id": "uNLOtanLF31E"
      },
      "execution_count": 19,
      "outputs": []
    },
    {
      "cell_type": "code",
      "source": [
        "df.head()"
      ],
      "metadata": {
        "colab": {
          "base_uri": "https://localhost:8080/",
          "height": 206
        },
        "id": "NiMJIxnjGAiN",
        "outputId": "aaf9a1f9-0605-4385-dc1a-00bf12e969de"
      },
      "execution_count": 20,
      "outputs": [
        {
          "output_type": "execute_result",
          "data": {
            "text/plain": [
              "                                              prompt  \\\n",
              "0  impressive oil painting, intimate portrait of ...   \n",
              "2  powerful oil painting, portrayal of a strong f...   \n",
              "3  intriguing oil painting, enigmatic portrait of...   \n",
              "4  vibrant oil painting, lively interior scene wi...   \n",
              "5  striking woodblock print, dramatic seascape wi...   \n",
              "\n",
              "                                                file error  \n",
              "0  /content/drive/MyDrive/AI/dalle3/20251019-0038...   NaN  \n",
              "2  /content/drive/MyDrive/AI/dalle3/20251019-0040...   NaN  \n",
              "3  /content/drive/MyDrive/AI/dalle3/20251019-0041...   NaN  \n",
              "4  /content/drive/MyDrive/AI/dalle3/20251019-0041...   NaN  \n",
              "5  /content/drive/MyDrive/AI/dalle3/20251019-0042...   NaN  "
            ],
            "text/html": [
              "\n",
              "  <div id=\"df-a8af4e6b-1083-4909-a719-3b32894de7d4\" class=\"colab-df-container\">\n",
              "    <div>\n",
              "<style scoped>\n",
              "    .dataframe tbody tr th:only-of-type {\n",
              "        vertical-align: middle;\n",
              "    }\n",
              "\n",
              "    .dataframe tbody tr th {\n",
              "        vertical-align: top;\n",
              "    }\n",
              "\n",
              "    .dataframe thead th {\n",
              "        text-align: right;\n",
              "    }\n",
              "</style>\n",
              "<table border=\"1\" class=\"dataframe\">\n",
              "  <thead>\n",
              "    <tr style=\"text-align: right;\">\n",
              "      <th></th>\n",
              "      <th>prompt</th>\n",
              "      <th>file</th>\n",
              "      <th>error</th>\n",
              "    </tr>\n",
              "  </thead>\n",
              "  <tbody>\n",
              "    <tr>\n",
              "      <th>0</th>\n",
              "      <td>impressive oil painting, intimate portrait of ...</td>\n",
              "      <td>/content/drive/MyDrive/AI/dalle3/20251019-0038...</td>\n",
              "      <td>NaN</td>\n",
              "    </tr>\n",
              "    <tr>\n",
              "      <th>2</th>\n",
              "      <td>powerful oil painting, portrayal of a strong f...</td>\n",
              "      <td>/content/drive/MyDrive/AI/dalle3/20251019-0040...</td>\n",
              "      <td>NaN</td>\n",
              "    </tr>\n",
              "    <tr>\n",
              "      <th>3</th>\n",
              "      <td>intriguing oil painting, enigmatic portrait of...</td>\n",
              "      <td>/content/drive/MyDrive/AI/dalle3/20251019-0041...</td>\n",
              "      <td>NaN</td>\n",
              "    </tr>\n",
              "    <tr>\n",
              "      <th>4</th>\n",
              "      <td>vibrant oil painting, lively interior scene wi...</td>\n",
              "      <td>/content/drive/MyDrive/AI/dalle3/20251019-0041...</td>\n",
              "      <td>NaN</td>\n",
              "    </tr>\n",
              "    <tr>\n",
              "      <th>5</th>\n",
              "      <td>striking woodblock print, dramatic seascape wi...</td>\n",
              "      <td>/content/drive/MyDrive/AI/dalle3/20251019-0042...</td>\n",
              "      <td>NaN</td>\n",
              "    </tr>\n",
              "  </tbody>\n",
              "</table>\n",
              "</div>\n",
              "    <div class=\"colab-df-buttons\">\n",
              "\n",
              "  <div class=\"colab-df-container\">\n",
              "    <button class=\"colab-df-convert\" onclick=\"convertToInteractive('df-a8af4e6b-1083-4909-a719-3b32894de7d4')\"\n",
              "            title=\"Convert this dataframe to an interactive table.\"\n",
              "            style=\"display:none;\">\n",
              "\n",
              "  <svg xmlns=\"http://www.w3.org/2000/svg\" height=\"24px\" viewBox=\"0 -960 960 960\">\n",
              "    <path d=\"M120-120v-720h720v720H120Zm60-500h600v-160H180v160Zm220 220h160v-160H400v160Zm0 220h160v-160H400v160ZM180-400h160v-160H180v160Zm440 0h160v-160H620v160ZM180-180h160v-160H180v160Zm440 0h160v-160H620v160Z\"/>\n",
              "  </svg>\n",
              "    </button>\n",
              "\n",
              "  <style>\n",
              "    .colab-df-container {\n",
              "      display:flex;\n",
              "      gap: 12px;\n",
              "    }\n",
              "\n",
              "    .colab-df-convert {\n",
              "      background-color: #E8F0FE;\n",
              "      border: none;\n",
              "      border-radius: 50%;\n",
              "      cursor: pointer;\n",
              "      display: none;\n",
              "      fill: #1967D2;\n",
              "      height: 32px;\n",
              "      padding: 0 0 0 0;\n",
              "      width: 32px;\n",
              "    }\n",
              "\n",
              "    .colab-df-convert:hover {\n",
              "      background-color: #E2EBFA;\n",
              "      box-shadow: 0px 1px 2px rgba(60, 64, 67, 0.3), 0px 1px 3px 1px rgba(60, 64, 67, 0.15);\n",
              "      fill: #174EA6;\n",
              "    }\n",
              "\n",
              "    .colab-df-buttons div {\n",
              "      margin-bottom: 4px;\n",
              "    }\n",
              "\n",
              "    [theme=dark] .colab-df-convert {\n",
              "      background-color: #3B4455;\n",
              "      fill: #D2E3FC;\n",
              "    }\n",
              "\n",
              "    [theme=dark] .colab-df-convert:hover {\n",
              "      background-color: #434B5C;\n",
              "      box-shadow: 0px 1px 3px 1px rgba(0, 0, 0, 0.15);\n",
              "      filter: drop-shadow(0px 1px 2px rgba(0, 0, 0, 0.3));\n",
              "      fill: #FFFFFF;\n",
              "    }\n",
              "  </style>\n",
              "\n",
              "    <script>\n",
              "      const buttonEl =\n",
              "        document.querySelector('#df-a8af4e6b-1083-4909-a719-3b32894de7d4 button.colab-df-convert');\n",
              "      buttonEl.style.display =\n",
              "        google.colab.kernel.accessAllowed ? 'block' : 'none';\n",
              "\n",
              "      async function convertToInteractive(key) {\n",
              "        const element = document.querySelector('#df-a8af4e6b-1083-4909-a719-3b32894de7d4');\n",
              "        const dataTable =\n",
              "          await google.colab.kernel.invokeFunction('convertToInteractive',\n",
              "                                                    [key], {});\n",
              "        if (!dataTable) return;\n",
              "\n",
              "        const docLinkHtml = 'Like what you see? Visit the ' +\n",
              "          '<a target=\"_blank\" href=https://colab.research.google.com/notebooks/data_table.ipynb>data table notebook</a>'\n",
              "          + ' to learn more about interactive tables.';\n",
              "        element.innerHTML = '';\n",
              "        dataTable['output_type'] = 'display_data';\n",
              "        await google.colab.output.renderOutput(dataTable, element);\n",
              "        const docLink = document.createElement('div');\n",
              "        docLink.innerHTML = docLinkHtml;\n",
              "        element.appendChild(docLink);\n",
              "      }\n",
              "    </script>\n",
              "  </div>\n",
              "\n",
              "\n",
              "    <div id=\"df-59cc3103-e149-4733-b109-08c86add7fdc\">\n",
              "      <button class=\"colab-df-quickchart\" onclick=\"quickchart('df-59cc3103-e149-4733-b109-08c86add7fdc')\"\n",
              "                title=\"Suggest charts\"\n",
              "                style=\"display:none;\">\n",
              "\n",
              "<svg xmlns=\"http://www.w3.org/2000/svg\" height=\"24px\"viewBox=\"0 0 24 24\"\n",
              "     width=\"24px\">\n",
              "    <g>\n",
              "        <path d=\"M19 3H5c-1.1 0-2 .9-2 2v14c0 1.1.9 2 2 2h14c1.1 0 2-.9 2-2V5c0-1.1-.9-2-2-2zM9 17H7v-7h2v7zm4 0h-2V7h2v10zm4 0h-2v-4h2v4z\"/>\n",
              "    </g>\n",
              "</svg>\n",
              "      </button>\n",
              "\n",
              "<style>\n",
              "  .colab-df-quickchart {\n",
              "      --bg-color: #E8F0FE;\n",
              "      --fill-color: #1967D2;\n",
              "      --hover-bg-color: #E2EBFA;\n",
              "      --hover-fill-color: #174EA6;\n",
              "      --disabled-fill-color: #AAA;\n",
              "      --disabled-bg-color: #DDD;\n",
              "  }\n",
              "\n",
              "  [theme=dark] .colab-df-quickchart {\n",
              "      --bg-color: #3B4455;\n",
              "      --fill-color: #D2E3FC;\n",
              "      --hover-bg-color: #434B5C;\n",
              "      --hover-fill-color: #FFFFFF;\n",
              "      --disabled-bg-color: #3B4455;\n",
              "      --disabled-fill-color: #666;\n",
              "  }\n",
              "\n",
              "  .colab-df-quickchart {\n",
              "    background-color: var(--bg-color);\n",
              "    border: none;\n",
              "    border-radius: 50%;\n",
              "    cursor: pointer;\n",
              "    display: none;\n",
              "    fill: var(--fill-color);\n",
              "    height: 32px;\n",
              "    padding: 0;\n",
              "    width: 32px;\n",
              "  }\n",
              "\n",
              "  .colab-df-quickchart:hover {\n",
              "    background-color: var(--hover-bg-color);\n",
              "    box-shadow: 0 1px 2px rgba(60, 64, 67, 0.3), 0 1px 3px 1px rgba(60, 64, 67, 0.15);\n",
              "    fill: var(--button-hover-fill-color);\n",
              "  }\n",
              "\n",
              "  .colab-df-quickchart-complete:disabled,\n",
              "  .colab-df-quickchart-complete:disabled:hover {\n",
              "    background-color: var(--disabled-bg-color);\n",
              "    fill: var(--disabled-fill-color);\n",
              "    box-shadow: none;\n",
              "  }\n",
              "\n",
              "  .colab-df-spinner {\n",
              "    border: 2px solid var(--fill-color);\n",
              "    border-color: transparent;\n",
              "    border-bottom-color: var(--fill-color);\n",
              "    animation:\n",
              "      spin 1s steps(1) infinite;\n",
              "  }\n",
              "\n",
              "  @keyframes spin {\n",
              "    0% {\n",
              "      border-color: transparent;\n",
              "      border-bottom-color: var(--fill-color);\n",
              "      border-left-color: var(--fill-color);\n",
              "    }\n",
              "    20% {\n",
              "      border-color: transparent;\n",
              "      border-left-color: var(--fill-color);\n",
              "      border-top-color: var(--fill-color);\n",
              "    }\n",
              "    30% {\n",
              "      border-color: transparent;\n",
              "      border-left-color: var(--fill-color);\n",
              "      border-top-color: var(--fill-color);\n",
              "      border-right-color: var(--fill-color);\n",
              "    }\n",
              "    40% {\n",
              "      border-color: transparent;\n",
              "      border-right-color: var(--fill-color);\n",
              "      border-top-color: var(--fill-color);\n",
              "    }\n",
              "    60% {\n",
              "      border-color: transparent;\n",
              "      border-right-color: var(--fill-color);\n",
              "    }\n",
              "    80% {\n",
              "      border-color: transparent;\n",
              "      border-right-color: var(--fill-color);\n",
              "      border-bottom-color: var(--fill-color);\n",
              "    }\n",
              "    90% {\n",
              "      border-color: transparent;\n",
              "      border-bottom-color: var(--fill-color);\n",
              "    }\n",
              "  }\n",
              "</style>\n",
              "\n",
              "      <script>\n",
              "        async function quickchart(key) {\n",
              "          const quickchartButtonEl =\n",
              "            document.querySelector('#' + key + ' button');\n",
              "          quickchartButtonEl.disabled = true;  // To prevent multiple clicks.\n",
              "          quickchartButtonEl.classList.add('colab-df-spinner');\n",
              "          try {\n",
              "            const charts = await google.colab.kernel.invokeFunction(\n",
              "                'suggestCharts', [key], {});\n",
              "          } catch (error) {\n",
              "            console.error('Error during call to suggestCharts:', error);\n",
              "          }\n",
              "          quickchartButtonEl.classList.remove('colab-df-spinner');\n",
              "          quickchartButtonEl.classList.add('colab-df-quickchart-complete');\n",
              "        }\n",
              "        (() => {\n",
              "          let quickchartButtonEl =\n",
              "            document.querySelector('#df-59cc3103-e149-4733-b109-08c86add7fdc button');\n",
              "          quickchartButtonEl.style.display =\n",
              "            google.colab.kernel.accessAllowed ? 'block' : 'none';\n",
              "        })();\n",
              "      </script>\n",
              "    </div>\n",
              "\n",
              "    </div>\n",
              "  </div>\n"
            ],
            "application/vnd.google.colaboratory.intrinsic+json": {
              "type": "dataframe",
              "variable_name": "df",
              "repr_error": "Out of range float values are not JSON compliant: nan"
            }
          },
          "metadata": {},
          "execution_count": 20
        }
      ]
    },
    {
      "cell_type": "markdown",
      "source": [
        "## Run the batch"
      ],
      "metadata": {
        "id": "lLw012-sFDAn"
      }
    },
    {
      "cell_type": "code",
      "source": [
        "import os\n",
        "import time\n",
        "import pandas as pd\n",
        "from tqdm.auto import tqdm\n",
        "\n",
        "out_dir = \"/content/drive/MyDrive/AI/together_flux\"\n",
        "os.makedirs(out_dir, exist_ok=True)\n",
        "\n",
        "log_path = os.path.join(out_dir, \"generated_prompts.csv\")\n",
        "\n",
        "# --- Initialize CSV file with header once if not exists\n",
        "if not os.path.exists(log_path):\n",
        "    pd.DataFrame(columns=[\"prompt\", \"file\", \"error\"]).to_csv(log_path, index=False)\n",
        "\n",
        "for row in tqdm(df.itertuples(), total=len(df), desc=\"Generating\"):\n",
        "    prompt = row.prompt\n",
        "    try:\n",
        "        fname = save_image_from_prompt(prompt)\n",
        "        err = None\n",
        "    except Exception as e:\n",
        "        fname = None\n",
        "        err = str(e)\n",
        "\n",
        "    # Append immediately\n",
        "    pd.DataFrame([{\n",
        "        \"prompt\": prompt,\n",
        "        \"file\": fname,\n",
        "        \"error\": err\n",
        "    }]).to_csv(log_path, mode=\"a\", index=False, header=False)\n",
        "\n",
        "    # Sleep also after errors\n",
        "    time.sleep(11)\n"
      ],
      "metadata": {
        "colab": {
          "base_uri": "https://localhost:8080/",
          "height": 538,
          "referenced_widgets": [
            "67657d1912b545ce9935dfda46482e26",
            "10c5eb071e004e40866c2286c480ba5d",
            "1934ab721434456c9318673dc755bc33",
            "f2a2c452d2134e58b13a57e162330fa9",
            "7f52c2fb1c9d40cca9c3c6f8c8a2f67a",
            "e39536966a6e45408659087bc7b06d12",
            "f732c77545174556aa4a4b968fd10cbd",
            "7cda03adc387433c8a45066575738595",
            "398d2c27d5114ad78b13c99a9f6e7900",
            "3e038b3d15f54d268ed50e7bf3877208",
            "6463c6c768fa450e8545f4f26c646f1f"
          ]
        },
        "id": "LyaY4NiS4tnL",
        "outputId": "e202b143-8be9-4aa5-f1fa-64228610b7fb"
      },
      "execution_count": null,
      "outputs": [
        {
          "output_type": "display_data",
          "data": {
            "text/plain": [
              "Generating:   0%|          | 0/186 [00:00<?, ?it/s]"
            ],
            "application/vnd.jupyter.widget-view+json": {
              "version_major": 2,
              "version_minor": 0,
              "model_id": "67657d1912b545ce9935dfda46482e26"
            }
          },
          "metadata": {}
        },
        {
          "output_type": "stream",
          "name": "stdout",
          "text": [
            "Saved → /content/drive/MyDrive/AI/together_flux/20251019-105250-impressive-oil-painting-intimate-portrait-of-an-a-dutch-golden-age-emotionally-resonant-masterpiece.png\n",
            "Saved → /content/drive/MyDrive/AI/together_flux/20251019-105303-powerful-oil-painting-portrayal-of-a-strong-femal-ntileschi-meets-baroque-art-inspiring-canvas-work.png\n",
            "Saved → /content/drive/MyDrive/AI/together_flux/20251019-105316-intriguing-oil-painting-enigmatic-portrait-of-a-n-s-the-italian-renaissance-captivating-masterpiece.png\n",
            "Saved → /content/drive/MyDrive/AI/together_flux/20251019-105329-vibrant-oil-painting-lively-interior-scene-with-b-enri-matisse-meets-fauvism-enchanting-canvas-work.png\n",
            "Saved → /content/drive/MyDrive/AI/together_flux/20251019-105341-striking-woodblock-print-dramatic-seascape-with-c-ushika-hokusai-meets-ukiyo-e-breathtaking-artwork.png\n",
            "Saved → /content/drive/MyDrive/AI/together_flux/20251019-105354-sensual-oil-painting-close-up-of-a-blooming-flowe-ffe-meets-american-modernism-alluring-canvas-work.png\n",
            "Saved → /content/drive/MyDrive/AI/together_flux/20251019-105408-expressive-oil-painting-starry-night-sky-over-a-s-meets-post-impressionism-mesmerizing-masterpiece.png\n",
            "Saved → /content/drive/MyDrive/AI/together_flux/20251019-105420-energetic-action-painting-large-scale-abstract-co-tract-expressionism-thought-provoking-canvas-work.png\n",
            "Saved → /content/drive/MyDrive/AI/together_flux/20251019-105433-still-life-painting-by-caravaggio-featuring-a-rar-symbolism-evoking-a-sense-of-luxury-and-decadence.png\n",
            "Saved → /content/drive/MyDrive/AI/together_flux/20251019-105446-exquisite-still-life-by-jan-van-huysum-portraying-aralleled-attention-to-detail-and-mastery-of-color.png\n",
            "Saved → /content/drive/MyDrive/AI/together_flux/20251019-105458-willem-kalf-masterpiece-presenting-a-sumptuous-ar-tional-skill-in-rendering-reflections-and-textures.png\n",
            "Saved → /content/drive/MyDrive/AI/together_flux/20251019-105511-rare-still-life-by-vermeer-capturing-a-meticulous-ting-the-artist-s-mastery-of-light-and-composition.png\n",
            "Saved → /content/drive/MyDrive/AI/together_flux/20251019-105523-stunning-work-by-francisco-de-zurbaran-depicting-e-divine-inviting-contemplation-and-introspection.png\n",
            "Saved → /content/drive/MyDrive/AI/together_flux/20251019-105536-rachel-ruysch-s-extraordinary-floral-still-life-d-strating-her-unparalleled-mastery-of-botanical-art.png\n",
            "Saved → /content/drive/MyDrive/AI/together_flux/20251019-105548-jean-baptiste-simeon-chardin-s-masterpiece-portra-celebrating-the-simple-pleasures-of-everyday-life.png\n",
            "Saved → /content/drive/MyDrive/AI/together_flux/20251019-105601-magnificent-still-life-by-pieter-claesz-featuring-transience-of-life-and-the-inevitability-of-death.png\n",
            "Saved → /content/drive/MyDrive/AI/together_flux/20251019-105613-josephine-bowes-s-enchanting-still-life-presentin-ill-in-capturing-the-elegance-of-aristocratic-life.png\n",
            "Saved → /content/drive/MyDrive/AI/together_flux/20251019-105626-exquisite-work-by-clara-peeters-depicting-a-stunn-e-the-ordinary-into-the-realm-of-the-extraordinary.png\n",
            "Saved → /content/drive/MyDrive/AI/together_flux/20251019-105639-intricate-mosaic-battle-scene-between-mythical-cr-meets-zeugma-mosaic-museum-stunning-floor-mosaic.png\n",
            "Saved → /content/drive/MyDrive/AI/together_flux/20251019-105652-detailed-mosaic-biblical-story-of-noah-s-ark-exp-ets-basilica-of-san-marco-captivating-wall-mosaic.png\n",
            "Saved → /content/drive/MyDrive/AI/together_flux/20251019-105705-elaborate-mosaic-celestial-depiction-of-the-zodia-illa-romana-del-casale-mesmerizing-ceiling-mosaic.png\n",
            "Saved → /content/drive/MyDrive/AI/together_flux/20251019-105718-vibrant-mosaic-ancient-marketplace-bustling-with-ics-meets-piazza-armerina-fascinating-wall-mosaic.png\n",
            "Saved → /content/drive/MyDrive/AI/together_flux/20251019-105732-grand-mosaic-allegorical-representation-of-the-se-i-meets-san-vitale-thought-provoking-floor-mosaic.png\n",
            "Saved → /content/drive/MyDrive/AI/together_flux/20251019-105744-elaborate-mosaic-lush-garden-filled-with-exotic-b-eat-palace-mosaic-museum-captivating-floor-mosaic.png\n",
            "Saved → /content/drive/MyDrive/AI/together_flux/20251019-105757-intricate-mosaic-whimsical-scene-of-a-grand-banqu-eets-the-house-of-dionysus-delightful-wall-mosaic.png\n",
            "Saved → /content/drive/MyDrive/AI/together_flux/20251019-105810-opulent-mosaic-religious-scene-depicting-the-life-s-meets-the-hagia-sophia-breathtaking-wall-mosaic.png\n",
            "Saved → /content/drive/MyDrive/AI/together_flux/20251019-105822-detailed-mosaic-athletic-competition-during-the-a-aics-meets-pergamon-museum-inspiring-floor-mosaic.png\n"
          ]
        }
      ]
    },
    {
      "cell_type": "code",
      "source": [],
      "metadata": {
        "id": "B5echBvA5QF6"
      },
      "execution_count": null,
      "outputs": []
    }
  ]
}